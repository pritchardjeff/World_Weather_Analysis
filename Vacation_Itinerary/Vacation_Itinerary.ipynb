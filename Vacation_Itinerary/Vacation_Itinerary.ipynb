{
 "cells": [
  {
   "cell_type": "markdown",
   "metadata": {},
   "source": [
    "## Deliverable 3. Create a Travel Itinerary Map."
   ]
  },
  {
   "cell_type": "code",
   "execution_count": 1,
   "metadata": {},
   "outputs": [],
   "source": [
    "# Dependencies and Setup\n",
    "import pandas as pd\n",
    "import requests\n",
    "import gmaps\n",
    "\n",
    "# Import API key\n",
    "from config import gmap_key\n",
    "\n",
    "# Configure gmaps\n",
    "gmaps.configure(api_key=gmap_key)"
   ]
  },
  {
   "cell_type": "code",
   "execution_count": 3,
   "metadata": {},
   "outputs": [
    {
     "data": {
      "text/html": [
       "<div>\n",
       "<style scoped>\n",
       "    .dataframe tbody tr th:only-of-type {\n",
       "        vertical-align: middle;\n",
       "    }\n",
       "\n",
       "    .dataframe tbody tr th {\n",
       "        vertical-align: top;\n",
       "    }\n",
       "\n",
       "    .dataframe thead th {\n",
       "        text-align: right;\n",
       "    }\n",
       "</style>\n",
       "<table border=\"1\" class=\"dataframe\">\n",
       "  <thead>\n",
       "    <tr style=\"text-align: right;\">\n",
       "      <th></th>\n",
       "      <th>City_ID</th>\n",
       "      <th>City</th>\n",
       "      <th>Country</th>\n",
       "      <th>Max Temp</th>\n",
       "      <th>Current Description</th>\n",
       "      <th>Lat</th>\n",
       "      <th>Lng</th>\n",
       "      <th>Hotel Name</th>\n",
       "    </tr>\n",
       "  </thead>\n",
       "  <tbody>\n",
       "    <tr>\n",
       "      <th>0</th>\n",
       "      <td>4</td>\n",
       "      <td>Rikitea</td>\n",
       "      <td>PF</td>\n",
       "      <td>69.31</td>\n",
       "      <td>light rain</td>\n",
       "      <td>-23.12</td>\n",
       "      <td>-134.97</td>\n",
       "      <td>Pension Maro'i</td>\n",
       "    </tr>\n",
       "    <tr>\n",
       "      <th>1</th>\n",
       "      <td>5</td>\n",
       "      <td>Bethel</td>\n",
       "      <td>US</td>\n",
       "      <td>72.00</td>\n",
       "      <td>few clouds</td>\n",
       "      <td>41.37</td>\n",
       "      <td>-73.41</td>\n",
       "      <td>Courtyard by Marriott Danbury</td>\n",
       "    </tr>\n",
       "    <tr>\n",
       "      <th>2</th>\n",
       "      <td>9</td>\n",
       "      <td>Waingapu</td>\n",
       "      <td>ID</td>\n",
       "      <td>74.57</td>\n",
       "      <td>broken clouds</td>\n",
       "      <td>-9.66</td>\n",
       "      <td>120.26</td>\n",
       "      <td>Pondok Wisata Elim</td>\n",
       "    </tr>\n",
       "    <tr>\n",
       "      <th>3</th>\n",
       "      <td>13</td>\n",
       "      <td>Oktyabrskoye</td>\n",
       "      <td>RU</td>\n",
       "      <td>73.00</td>\n",
       "      <td>few clouds</td>\n",
       "      <td>43.06</td>\n",
       "      <td>44.74</td>\n",
       "      <td>Prolesok Mini-hotel</td>\n",
       "    </tr>\n",
       "    <tr>\n",
       "      <th>4</th>\n",
       "      <td>16</td>\n",
       "      <td>Hilo</td>\n",
       "      <td>US</td>\n",
       "      <td>71.60</td>\n",
       "      <td>broken clouds</td>\n",
       "      <td>19.73</td>\n",
       "      <td>-155.09</td>\n",
       "      <td>Hilo Hawaiian Hotel</td>\n",
       "    </tr>\n",
       "  </tbody>\n",
       "</table>\n",
       "</div>"
      ],
      "text/plain": [
       "   City_ID          City Country  Max Temp Current Description    Lat     Lng  \\\n",
       "0        4       Rikitea      PF     69.31          light rain -23.12 -134.97   \n",
       "1        5        Bethel      US     72.00          few clouds  41.37  -73.41   \n",
       "2        9      Waingapu      ID     74.57       broken clouds  -9.66  120.26   \n",
       "3       13  Oktyabrskoye      RU     73.00          few clouds  43.06   44.74   \n",
       "4       16          Hilo      US     71.60       broken clouds  19.73 -155.09   \n",
       "\n",
       "                      Hotel Name  \n",
       "0                 Pension Maro'i  \n",
       "1  Courtyard by Marriott Danbury  \n",
       "2             Pondok Wisata Elim  \n",
       "3            Prolesok Mini-hotel  \n",
       "4            Hilo Hawaiian Hotel  "
      ]
     },
     "execution_count": 3,
     "metadata": {},
     "output_type": "execute_result"
    }
   ],
   "source": [
    "# 1. Read the WeatherPy_vacation.csv into a DataFrame.\n",
    "vacation_df = pd.read_csv(\"../Vacation_Search/WeatherPy_vacation.csv\")\n",
    "vacation_df.head()\n",
    "\n"
   ]
  },
  {
   "cell_type": "code",
   "execution_count": 5,
   "metadata": {},
   "outputs": [],
   "source": [
    "# 2. Using the template add the city name, the country code, the weather description and maximum temperature for the city.\n",
    "info_box_template = \"\"\"\n",
    "<dl>\n",
    "<dt>Hotel Name</dt><dd>{Hotel Name}</dd>\n",
    "<dt>City Name</dt><dd>{City}</dd>\n",
    "<dt>Country Code</dt><dd>{Country}</dd>\n",
    "<dt>Current Weather</dt><dd>{Max Temp} °F and {Current Description} </dd>\n",
    "</dl>\n",
    "\"\"\"\n",
    "\n",
    "# 3a. Get the data from each row and add it to the formatting template and store the data in a list.\n",
    "hotel_info = [info_box_template.format(**row) for index, row in vacation_df.iterrows()]\n",
    "\n",
    "# 3b. Get the latitude and longitude from each row and store in a new DataFrame.\n",
    "locations = vacation_df[[\"Lat\", \"Lng\"]]"
   ]
  },
  {
   "cell_type": "code",
   "execution_count": 6,
   "metadata": {},
   "outputs": [
    {
     "data": {
      "application/vnd.jupyter.widget-view+json": {
       "model_id": "accb706be1a245739db14d63834ebb8d",
       "version_major": 2,
       "version_minor": 0
      },
      "text/plain": [
       "Figure(layout=FigureLayout(height='420px'))"
      ]
     },
     "metadata": {},
     "output_type": "display_data"
    }
   ],
   "source": [
    "# 4a. Add a marker layer for each city to the map.\n",
    "\n",
    "# 4b. Display the figure\n",
    "\n",
    "locations = vacation_df[[\"Lat\", \"Lng\"]]\n",
    "max_temp = vacation_df[\"Max Temp\"]\n",
    "fig = gmaps.figure(center=(30.0, 31.0), zoom_level=1.9)\n",
    "heat_layer = gmaps.heatmap_layer(locations, weights=max_temp,dissipating=False,\n",
    "             max_intensity=300, point_radius=4)\n",
    "marker_layer = gmaps.marker_layer(locations, info_box_content=hotel_info)\n",
    "fig.add_layer(heat_layer)\n",
    "fig.add_layer(marker_layer)\n",
    "\n",
    "# Call the figure to plot the data.\n",
    "fig\n",
    "\n"
   ]
  },
  {
   "cell_type": "code",
   "execution_count": 24,
   "metadata": {},
   "outputs": [],
   "source": [
    "# From the map above pick 4 cities and create a vacation itinerary route to travel between the four cities. \n",
    "# 5. Create DataFrames for each city by filtering the 'vacation_df' using the loc method. \n",
    "# Hint: The starting and ending city should be the same city.\n",
    "\n",
    "vacation_start = vacation_df.loc[(vacation_df[\"City\"] == \"Yei\")]\n",
    "vacation_end = vacation_df.loc[(vacation_df[\"City\"] == \"Yei\")]\n",
    "vacation_stop1 = vacation_df.loc[(vacation_df[\"City\"] == \"Nanga Eboko\")]\n",
    "vacation_stop2 = vacation_df.loc[(vacation_df[\"City\"] == \"Monduli\")]\n",
    "vacation_stop3 = vacation_df.loc[(vacation_df[\"City\"] == \"Ginir\")]"
   ]
  },
  {
   "cell_type": "code",
   "execution_count": 25,
   "metadata": {},
   "outputs": [],
   "source": [
    "# 6. Get the latitude-longitude pairs as tuples from each city DataFrame using the to_numpy function and list indexing.\n",
    "start = (vacation_start.to_numpy()[0,5],vacation_start.to_numpy()[0,6])\n",
    "end = (vacation_end.to_numpy()[0,5],vacation_end.to_numpy()[0,6])\n",
    "stop1 = (vacation_stop1.to_numpy()[0,5],vacation_stop1.to_numpy()[0,6])\n",
    "stop2 = (vacation_stop2.to_numpy()[0,5],vacation_stop2.to_numpy()[0,6])\n",
    "stop3 = (vacation_stop3.to_numpy()[0,5],vacation_stop3.to_numpy()[0,6])"
   ]
  },
  {
   "cell_type": "code",
   "execution_count": 44,
   "metadata": {
    "scrolled": true
   },
   "outputs": [
    {
     "data": {
      "application/vnd.jupyter.widget-view+json": {
       "model_id": "981da4078df94fe595fdd6da21c5f180",
       "version_major": 2,
       "version_minor": 0
      },
      "text/plain": [
       "Figure(layout=FigureLayout(height='420px'))"
      ]
     },
     "metadata": {},
     "output_type": "display_data"
    }
   ],
   "source": [
    "# 7. Create a direction layer map using the start and end latitude-longitude pairs,\n",
    "# and stop1, stop2, and stop3 as the waypoints. The travel_mode should be \"DRIVING\", \"BICYCLING\", or \"WALKING\".\n",
    "fig = gmaps.figure()\n",
    "start_2_end = gmaps.directions_layer(start, end, waypoints=[stop1, stop2, stop3], travel_mode = \"WALKING\")\n",
    "fig.add_layer(start_2_end)\n",
    "fig\n"
   ]
  },
  {
   "cell_type": "code",
   "execution_count": 36,
   "metadata": {},
   "outputs": [
    {
     "data": {
      "text/html": [
       "<div>\n",
       "<style scoped>\n",
       "    .dataframe tbody tr th:only-of-type {\n",
       "        vertical-align: middle;\n",
       "    }\n",
       "\n",
       "    .dataframe tbody tr th {\n",
       "        vertical-align: top;\n",
       "    }\n",
       "\n",
       "    .dataframe thead th {\n",
       "        text-align: right;\n",
       "    }\n",
       "</style>\n",
       "<table border=\"1\" class=\"dataframe\">\n",
       "  <thead>\n",
       "    <tr style=\"text-align: right;\">\n",
       "      <th></th>\n",
       "      <th>City_ID</th>\n",
       "      <th>City</th>\n",
       "      <th>Country</th>\n",
       "      <th>Max Temp</th>\n",
       "      <th>Current Description</th>\n",
       "      <th>Lat</th>\n",
       "      <th>Lng</th>\n",
       "      <th>Hotel Name</th>\n",
       "    </tr>\n",
       "  </thead>\n",
       "  <tbody>\n",
       "    <tr>\n",
       "      <th>0</th>\n",
       "      <td>570</td>\n",
       "      <td>Yei</td>\n",
       "      <td>SS</td>\n",
       "      <td>71.47</td>\n",
       "      <td>light rain</td>\n",
       "      <td>4.09</td>\n",
       "      <td>30.68</td>\n",
       "      <td>City Link Hotel</td>\n",
       "    </tr>\n",
       "    <tr>\n",
       "      <th>1</th>\n",
       "      <td>139</td>\n",
       "      <td>Nanga Eboko</td>\n",
       "      <td>CM</td>\n",
       "      <td>74.91</td>\n",
       "      <td>light rain</td>\n",
       "      <td>4.68</td>\n",
       "      <td>12.37</td>\n",
       "      <td>Akila Hotel</td>\n",
       "    </tr>\n",
       "    <tr>\n",
       "      <th>2</th>\n",
       "      <td>466</td>\n",
       "      <td>Monduli</td>\n",
       "      <td>TZ</td>\n",
       "      <td>69.8</td>\n",
       "      <td>few clouds</td>\n",
       "      <td>-3.3</td>\n",
       "      <td>36.45</td>\n",
       "      <td>Monduli Lutheran Youth Hostel</td>\n",
       "    </tr>\n",
       "    <tr>\n",
       "      <th>3</th>\n",
       "      <td>637</td>\n",
       "      <td>Ginir</td>\n",
       "      <td>ET</td>\n",
       "      <td>67.77</td>\n",
       "      <td>broken clouds</td>\n",
       "      <td>7.13</td>\n",
       "      <td>40.7</td>\n",
       "      <td>Sura Dare Village</td>\n",
       "    </tr>\n",
       "  </tbody>\n",
       "</table>\n",
       "</div>"
      ],
      "text/plain": [
       "  City_ID         City Country Max Temp Current Description   Lat    Lng  \\\n",
       "0     570          Yei      SS    71.47          light rain  4.09  30.68   \n",
       "1     139  Nanga Eboko      CM    74.91          light rain  4.68  12.37   \n",
       "2     466      Monduli      TZ     69.8          few clouds  -3.3  36.45   \n",
       "3     637        Ginir      ET    67.77       broken clouds  7.13   40.7   \n",
       "\n",
       "                      Hotel Name  \n",
       "0                City Link Hotel  \n",
       "1                    Akila Hotel  \n",
       "2  Monduli Lutheran Youth Hostel  \n",
       "3              Sura Dare Village  "
      ]
     },
     "execution_count": 36,
     "metadata": {},
     "output_type": "execute_result"
    }
   ],
   "source": [
    "# 8. To create a marker layer map between the four cities.\n",
    "#  Combine the four city DataFrames into one DataFrame using the concat() function.\n",
    "itinerary_df = pd.concat([vacation_start,vacation_stop1,vacation_stop2,vacation_stop3],ignore_index=True)\n",
    "itinerary_df = itinerary_df.drop(4)\n",
    "itinerary_df"
   ]
  },
  {
   "cell_type": "code",
   "execution_count": 37,
   "metadata": {},
   "outputs": [],
   "source": [
    "# 9 Using the template add city name, the country code, the weather description and maximum temperature for the city. \n",
    "info_box_template = \"\"\"\n",
    "<dl>\n",
    "<dt>Hotel Name</dt><dd>{Hotel Name}</dd>\n",
    "<dt>City Name</dt><dd>{City}</dd>\n",
    "<dt>Country Code</dt><dd>{Country}</dd>\n",
    "<dt>Current Weather</dt><dd>{Max Temp} °F and {Current Description} </dd>\n",
    "</dl>\n",
    "\"\"\"\n",
    "\n",
    "# 10a Get the data from each row and add it to the formatting template and store the data in a list.\n",
    "hotel_info = [info_box_template.format(**row) for index, row in itinerary_df.iterrows()]\n",
    "\n",
    "# 10b. Get the latitude and longitude from each row and store in a new DataFrame.\n",
    "locations = itinerary_df[[\"Lat\", \"Lng\"]]"
   ]
  },
  {
   "cell_type": "code",
   "execution_count": 43,
   "metadata": {},
   "outputs": [
    {
     "data": {
      "application/vnd.jupyter.widget-view+json": {
       "model_id": "9a1388b3111d450fb6bd12d40e403ef2",
       "version_major": 2,
       "version_minor": 0
      },
      "text/plain": [
       "Figure(layout=FigureLayout(height='420px'))"
      ]
     },
     "metadata": {},
     "output_type": "display_data"
    }
   ],
   "source": [
    "# 11a. Add a marker layer for each city to the map.\n",
    "max_temp = itinerary_df[\"Max Temp\"]\n",
    "fig = gmaps.figure(center=(0.0, 25.0), zoom_level=4.5)\n",
    "heat_layer = gmaps.heatmap_layer(locations, weights=max_temp,dissipating=False,\n",
    "             max_intensity=300, point_radius=4)\n",
    "marker_layer = gmaps.marker_layer(locations, info_box_content=hotel_info)\n",
    "fig.add_layer(heat_layer)\n",
    "fig.add_layer(marker_layer)\n",
    "\n",
    "# Call the figure to plot the data.\n",
    "fig"
   ]
  },
  {
   "cell_type": "code",
   "execution_count": null,
   "metadata": {},
   "outputs": [],
   "source": []
  }
 ],
 "metadata": {
  "kernelspec": {
   "display_name": "PythonData",
   "language": "python",
   "name": "pythondata"
  },
  "language_info": {
   "codemirror_mode": {
    "name": "ipython",
    "version": 3
   },
   "file_extension": ".py",
   "mimetype": "text/x-python",
   "name": "python",
   "nbconvert_exporter": "python",
   "pygments_lexer": "ipython3",
   "version": "3.7.7"
  },
  "latex_envs": {
   "LaTeX_envs_menu_present": true,
   "autoclose": false,
   "autocomplete": true,
   "bibliofile": "biblio.bib",
   "cite_by": "apalike",
   "current_citInitial": 1,
   "eqLabelWithNumbers": true,
   "eqNumInitial": 1,
   "hotkeys": {
    "equation": "Ctrl-E",
    "itemize": "Ctrl-I"
   },
   "labels_anchors": false,
   "latex_user_defs": false,
   "report_style_numbering": false,
   "user_envs_cfg": false
  }
 },
 "nbformat": 4,
 "nbformat_minor": 2
}
